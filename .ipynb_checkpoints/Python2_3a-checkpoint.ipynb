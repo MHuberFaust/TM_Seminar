{
 "cells": [
  {
   "cell_type": "markdown",
   "metadata": {},
   "source": [
    "## Python für Fortgeschrittene\n",
    "# Funktionales Programmieren II"
   ]
  },
  {
   "cell_type": "markdown",
   "metadata": {},
   "source": [
    "### Wiederholung\n",
    "\n",
    "* Funktionen als Objekte erster Klasse\n",
    "* Funktionen als mathematische Funktionen, ohne Nebeneffekte\n",
    "* Iteratoren / Iterables\n",
    "* »Daten fließen durch Ketten von Funktionen«"
   ]
  },
  {
   "cell_type": "markdown",
   "metadata": {},
   "source": [
    "#### List Comprehensions"
   ]
  },
  {
   "cell_type": "code",
   "execution_count": 8,
   "metadata": {
    "collapsed": false
   },
   "outputs": [
    {
     "data": {
      "text/plain": [
       "['Ich bin ein Test.', 'Ich bin klein.', 'Zerleg mich trotzdem!']"
      ]
     },
     "execution_count": 8,
     "metadata": {},
     "output_type": "execute_result"
    }
   ],
   "source": [
    "import re\n",
    "source=\"Ich bin ein Test. Ich bin klein. Zerleg mich trotzdem!\"\n",
    "\n",
    "[s.strip() \n",
    "    for s in re.split(r'(.*?[.+?]\\s*)', source)\n",
    "    if  s != \"\"]"
   ]
  },
  {
   "cell_type": "markdown",
   "metadata": {},
   "source": [
    "#### Dictionary- und Set Comprehensions"
   ]
  },
  {
   "cell_type": "code",
   "execution_count": 10,
   "metadata": {
    "collapsed": false
   },
   "outputs": [],
   "source": [
    "# Set Comprehensions\n",
    "unterschiedliche_zeichen = { letter for letter in source }"
   ]
  },
  {
   "cell_type": "code",
   "execution_count": 12,
   "metadata": {
    "collapsed": false
   },
   "outputs": [
    {
     "data": {
      "text/plain": [
       "{'Ich': 3,\n",
       " 'Test.': 5,\n",
       " 'Zerleg': 6,\n",
       " 'bin': 3,\n",
       " 'ein': 3,\n",
       " 'klein.': 6,\n",
       " 'mich': 4,\n",
       " 'trotzdem!': 9}"
      ]
     },
     "execution_count": 12,
     "metadata": {},
     "output_type": "execute_result"
    }
   ],
   "source": [
    "# Dictionary Comprehensions\n",
    "{ word : len(word) for word in source.split() }"
   ]
  },
  {
   "cell_type": "markdown",
   "metadata": {},
   "source": [
    "#### Generator Comprehensions\n",
    "\n",
    "Wie List comprehensions, materialisieren aber nicht die Liste, sondern erzeugen einen _Generator_"
   ]
  },
  {
   "cell_type": "code",
   "execution_count": 13,
   "metadata": {
    "collapsed": false
   },
   "outputs": [
    {
     "data": {
      "text/plain": [
       "<generator object <genexpr> at 0x7f4428531258>"
      ]
     },
     "execution_count": 13,
     "metadata": {},
     "output_type": "execute_result"
    }
   ],
   "source": [
    "(s.strip() \n",
    "    for s in re.split(r'(.*?[.+?]\\s*)', source)\n",
    "    if  s != \"\")"
   ]
  },
  {
   "cell_type": "markdown",
   "metadata": {},
   "source": [
    "#### Generatoren\n",
    "\n",
    "Generatoren bieten den Weg von imperativem Code hin in die funktionale Welt. Sie erzeugen automatisch ein Iterable, das Schlüsselwort `yield` erzeugt das nächste Element:"
   ]
  },
  {
   "cell_type": "code",
   "execution_count": 19,
   "metadata": {
    "collapsed": true
   },
   "outputs": [],
   "source": [
    "def nl(lines):\n",
    "    i = 0\n",
    "    for line in lines:\n",
    "        i += 1\n",
    "        yield \"{:>5} {}\".format(i, line)"
   ]
  },
  {
   "cell_type": "code",
   "execution_count": 22,
   "metadata": {
    "collapsed": false
   },
   "outputs": [
    {
     "name": "stdout",
     "output_type": "stream",
     "text": [
      "    1 Johann Wolfgang von Goethe (* 28. August 1749 in Frankfurt am Main; † 22. März 1832 in Weimar), geadelt 1782, gilt als einer der bedeutendsten Repräsentanten deutschsprachiger Dichtung.\n",
      "\n",
      "    2 \n",
      "\n",
      "    3 Goethes literarische Produktion umfasst Lyrik, Dramen, erzählende Werke (in Vers und Prosa), autobiografische, kunst- und literaturtheoretische sowie naturwissenschaftliche Schriften. Daneben ist sein umfangreicher Briefwechsel von literarischer Bedeutung. Goethe war Vorbereiter und wichtigster Vertreter des Sturm und Drang. Sein Roman Die Leiden des jungen Werthers machte ihn in Europa berühmt. Gemeinsam mit Schiller, Herder und Wieland verkörpert er die Weimarer Klassik. Im Alter wurde er auch im Ausland als Repräsentant des geistigen Deutschlands angesehen.\n",
      "\n",
      "    4 \n",
      "\n",
      "    5 Am Hof von Weimar bekleidete er als Freund und Minister des Herzogs Carl August politische und administrative Ämter und leitete ein Vierteljahrhundert das Hoftheater.\n",
      "\n",
      "    6 \n",
      "\n",
      "    7 Im Deutschen Kaiserreich wurde er „zum Kronzeugen der nationalen Identität der Deutschen“[1] und als solcher für den deutschen Nationalismus vereinnahmt. Es setzte damit eine Verehrung nicht nur des Werks, sondern auch der Persönlichkeit des Dichters ein, dessen Lebensführung als vorbildlich empfunden wurde. Bis heute zählen Gedichte, Dramen und Romane von ihm zu den Meisterwerken der Weltliteratur.\n"
     ]
    }
   ],
   "source": [
    "with open(\"goethe.txt\") as f:\n",
    "    for line in nl(f):\n",
    "        print(line)"
   ]
  },
  {
   "cell_type": "markdown",
   "metadata": {},
   "source": [
    "Ruft man die Generatorfunktion `nl` auf, so bekommt man einen Generator zurück (ein Iterable). Mit jeder Iteration über den Generator läuft die Funktion nur bis zum nächsten `yield` und wird dann eingefroren bis zum nächsten `next()`-Aufruf an dem Generator."
   ]
  },
  {
   "cell_type": "markdown",
   "metadata": {},
   "source": [
    "### map() und filter()"
   ]
  },
  {
   "cell_type": "markdown",
   "metadata": {},
   "source": [
    "Comprehensions implementieren Funktionalität, die auch über die Funktionen `map` und `filter` zur Verfügung steht. map und filter (und reduce, s.u.) sind Klassiker der funktionalen Programmierung:"
   ]
  },
  {
   "cell_type": "code",
   "execution_count": 25,
   "metadata": {
    "collapsed": false
   },
   "outputs": [
    {
     "name": "stdout",
     "output_type": "stream",
     "text": [
      "map(func, *iterables) --> map object\n",
      "\n",
      "Make an iterator that computes the function using arguments from\n",
      "each of the iterables.  Stops when the shortest iterable is exhausted.\n"
     ]
    }
   ],
   "source": [
    "print(map.__doc__)"
   ]
  },
  {
   "cell_type": "code",
   "execution_count": 31,
   "metadata": {
    "collapsed": false
   },
   "outputs": [
    {
     "data": {
      "text/plain": [
       "[3, 3, 3, 5]"
      ]
     },
     "execution_count": 31,
     "metadata": {},
     "output_type": "execute_result"
    }
   ],
   "source": [
    "words = [\"Ich\", \"bin\", \"ein\", \"Test.\"]\n",
    "list(map(len, words))"
   ]
  },
  {
   "cell_type": "code",
   "execution_count": 37,
   "metadata": {
    "collapsed": false
   },
   "outputs": [
    {
     "data": {
      "text/plain": [
       "[3, 3, 3, 5]"
      ]
     },
     "execution_count": 37,
     "metadata": {},
     "output_type": "execute_result"
    }
   ],
   "source": [
    "[len(word) for word in words]"
   ]
  },
  {
   "cell_type": "code",
   "execution_count": 38,
   "metadata": {
    "collapsed": false
   },
   "outputs": [
    {
     "ename": "TypeError",
     "evalue": "sequence item 0: expected str instance, int found",
     "output_type": "error",
     "traceback": [
      "\u001b[1;31m---------------------------------------------------------------------------\u001b[0m",
      "\u001b[1;31mTypeError\u001b[0m                                 Traceback (most recent call last)",
      "\u001b[1;32m<ipython-input-38-49bc528ef81b>\u001b[0m in \u001b[0;36m<module>\u001b[1;34m()\u001b[0m\n\u001b[1;32m----> 1\u001b[1;33m \u001b[1;34m\"; \"\u001b[0m\u001b[1;33m.\u001b[0m\u001b[0mjoin\u001b[0m\u001b[1;33m(\u001b[0m\u001b[0mrange\u001b[0m\u001b[1;33m(\u001b[0m\u001b[1;36m10\u001b[0m\u001b[1;33m)\u001b[0m\u001b[1;33m)\u001b[0m\u001b[1;33m\u001b[0m\u001b[0m\n\u001b[0m",
      "\u001b[1;31mTypeError\u001b[0m: sequence item 0: expected str instance, int found"
     ]
    }
   ],
   "source": [
    "\"; \".join(range(10))"
   ]
  },
  {
   "cell_type": "code",
   "execution_count": 39,
   "metadata": {
    "collapsed": false
   },
   "outputs": [
    {
     "data": {
      "text/plain": [
       "'0; 1; 2; 3; 4; 5; 6; 7; 8; 9'"
      ]
     },
     "execution_count": 39,
     "metadata": {},
     "output_type": "execute_result"
    }
   ],
   "source": [
    "\"; \".join(map(str, range(10)))"
   ]
  },
  {
   "cell_type": "markdown",
   "metadata": {},
   "source": [
    "__filter__ nimmt ein _Prädikat_, d.h. eine Funktion, die ein `bool` zurückgibt:"
   ]
  },
  {
   "cell_type": "code",
   "execution_count": 42,
   "metadata": {
    "collapsed": false
   },
   "outputs": [
    {
     "data": {
      "text/plain": [
       "['35', '4']"
      ]
     },
     "execution_count": 42,
     "metadata": {},
     "output_type": "execute_result"
    }
   ],
   "source": [
    "satz = \"35 Studierende lösen je 4 Aufgaben\".split()\n",
    "list(filter(str.isnumeric, satz))"
   ]
  },
  {
   "cell_type": "code",
   "execution_count": 43,
   "metadata": {
    "collapsed": false
   },
   "outputs": [
    {
     "data": {
      "text/plain": [
       "[35, 4]"
      ]
     },
     "execution_count": 43,
     "metadata": {},
     "output_type": "execute_result"
    }
   ],
   "source": [
    "list(map(int, filter(str.isnumeric, satz)))"
   ]
  },
  {
   "cell_type": "code",
   "execution_count": 44,
   "metadata": {
    "collapsed": false
   },
   "outputs": [
    {
     "data": {
      "text/plain": [
       "[35, 4]"
      ]
     },
     "execution_count": 44,
     "metadata": {},
     "output_type": "execute_result"
    }
   ],
   "source": [
    "[int(zahl) for zahl in satz if zahl.isnumeric()]"
   ]
  },
  {
   "cell_type": "markdown",
   "metadata": {},
   "source": [
    "#### Lambda-Ausdrücke"
   ]
  },
  {
   "cell_type": "markdown",
   "metadata": {},
   "source": [
    "Lambda-Ausdrücke dienen dazu, kleine anonyme Funktionen (die nur aus einem Ausdruck bestehen) zu schreiben."
   ]
  },
  {
   "cell_type": "code",
   "execution_count": 3,
   "metadata": {
    "collapsed": false
   },
   "outputs": [
    {
     "data": {
      "text/plain": [
       "<function __main__.<lambda>>"
      ]
     },
     "execution_count": 3,
     "metadata": {},
     "output_type": "execute_result"
    }
   ],
   "source": [
    "lambda x: x**2"
   ]
  },
  {
   "cell_type": "markdown",
   "metadata": {},
   "source": [
    "der oben stehen de Ausdruck ist equivalent zu:"
   ]
  },
  {
   "cell_type": "code",
   "execution_count": null,
   "metadata": {
    "collapsed": true
   },
   "outputs": [],
   "source": [
    "def square(x):\n",
    "    return x**2"
   ]
  },
  {
   "cell_type": "code",
   "execution_count": 49,
   "metadata": {
    "collapsed": false
   },
   "outputs": [
    {
     "data": {
      "text/plain": [
       "[0, 1, 4, 9, 16, 25, 36, 49, 64, 81]"
      ]
     },
     "execution_count": 49,
     "metadata": {},
     "output_type": "execute_result"
    }
   ],
   "source": [
    "list(map(lambda x: x**2, range(10)))"
   ]
  },
  {
   "cell_type": "markdown",
   "metadata": {},
   "source": [
    "* Kombinationen aus map/filter und lambda-Ausdrücken sind häufig als Comprehensions lesbarer\n",
    "* komplexe Lambda-Ausdrücke sind häufig als kleine nicht-anonyme Funktionen lesbarer"
   ]
  },
  {
   "cell_type": "markdown",
   "metadata": {},
   "source": [
    "#### Übungen\n",
    "\n",
    "1. Sie erinnern sich noch an die Aufgabe _Liste von Wörtern → Liste von Vokalanzahlen_? Lösen Sie sie erneut, jedoch möglicht unter reichhaltiger Verwendung von map/filter & Konsorten."
   ]
  },
  {
   "cell_type": "code",
   "execution_count": 18,
   "metadata": {
    "collapsed": false
   },
   "outputs": [
    {
     "ename": "NameError",
     "evalue": "name 'word' is not defined",
     "output_type": "error",
     "traceback": [
      "\u001b[0;31m---------------------------------------------------------------------------\u001b[0m",
      "\u001b[0;31mNameError\u001b[0m                                 Traceback (most recent call last)",
      "\u001b[0;32m<ipython-input-18-347cf3a6cf28>\u001b[0m in \u001b[0;36m<module>\u001b[0;34m()\u001b[0m\n\u001b[1;32m      6\u001b[0m \u001b[0;32mfor\u001b[0m \u001b[0mitem\u001b[0m \u001b[0;32min\u001b[0m \u001b[0msatz\u001b[0m\u001b[0;34m:\u001b[0m\u001b[0;34m\u001b[0m\u001b[0m\n\u001b[1;32m      7\u001b[0m     \u001b[0mcountvowels\u001b[0m\u001b[0;34m(\u001b[0m\u001b[0mitem\u001b[0m\u001b[0;34m)\u001b[0m\u001b[0;34m\u001b[0m\u001b[0m\n\u001b[0;32m----> 8\u001b[0;31m \u001b[0;34m[\u001b[0m\u001b[0mch\u001b[0m \u001b[0;32mfor\u001b[0m \u001b[0mch\u001b[0m \u001b[0;32min\u001b[0m \u001b[0mword\u001b[0m \u001b[0;32mif\u001b[0m \u001b[0mch\u001b[0m \u001b[0;32min\u001b[0m \u001b[0;34m'aeiouAEIOUüÜöÖäÄ'\u001b[0m\u001b[0;34m]\u001b[0m\u001b[0;34m\u001b[0m\u001b[0m\n\u001b[0m",
      "\u001b[0;31mNameError\u001b[0m: name 'word' is not defined"
     ]
    }
   ],
   "source": [
    "satz = ['Das', 'ist', 'ein', 'Satz']\n",
    "\n",
    "def countvowels(word):\n",
    "     list(map(len,[ch for ch in word if ch in 'aeiouAEIOUüÜöÖäÄ']))\n",
    "    \n",
    "for item in satz:\n",
    "    countvowels(item)\n",
    "[ch for ch in 'Das' if ch in 'aeiouAEIOUüÜöÖäÄ']"
   ]
  },
  {
   "cell_type": "markdown",
   "metadata": {},
   "source": [
    "#### functools.reduce\n",
    "\n",
    "`reduce(function, iterable [, initial])` aus dem `functools`-Modul funktioniert ähnlich `map`, reduziert die Liste jedoch auf einen einzelnen Wert. Die Verwendung ist umstritten. Alternative fertige Reduktoren wie `sum` oder klassische `for`-Schleifen."
   ]
  },
  {
   "cell_type": "code",
   "execution_count": 52,
   "metadata": {
    "collapsed": true
   },
   "outputs": [],
   "source": [
    "from functools import reduce\n",
    "def add(x, y):\n",
    "    print(\"add({}, {}) -> {}\".format(x, y, x+y)) # aus didaktischen Gründen ...\n",
    "    return x+y"
   ]
  },
  {
   "cell_type": "code",
   "execution_count": 53,
   "metadata": {
    "collapsed": false
   },
   "outputs": [
    {
     "name": "stdout",
     "output_type": "stream",
     "text": [
      "add(0, 1) -> 1\n",
      "add(1, 2) -> 3\n",
      "add(3, 3) -> 6\n",
      "add(6, 4) -> 10\n"
     ]
    },
    {
     "data": {
      "text/plain": [
       "10"
      ]
     },
     "execution_count": 53,
     "metadata": {},
     "output_type": "execute_result"
    }
   ],
   "source": [
    "reduce(add, range(5))"
   ]
  },
  {
   "cell_type": "markdown",
   "metadata": {},
   "source": [
    "## Nützliche Funktionen & Generatoren in der Standard Library"
   ]
  },
  {
   "cell_type": "markdown",
   "metadata": {},
   "source": [
    "#### Operatoren"
   ]
  },
  {
   "cell_type": "markdown",
   "metadata": {},
   "source": [
    "Das Modul `operator` stellt für alles, was es so als Operator in Python gibt, Funktionen bereit, die z.B. `map`, `filter` und `reduce` verabreicht werden können."
   ]
  },
  {
   "cell_type": "code",
   "execution_count": 63,
   "metadata": {
    "collapsed": false
   },
   "outputs": [
    {
     "data": {
      "text/plain": [
       "3628800"
      ]
     },
     "execution_count": 63,
     "metadata": {},
     "output_type": "execute_result"
    }
   ],
   "source": [
    "import operator\n",
    "\n",
    "def factorial(n):\n",
    "    return reduce(operator.mul, range(1, n+1))\n",
    "factorial(10)"
   ]
  },
  {
   "cell_type": "markdown",
   "metadata": {},
   "source": [
    "Übungsaufgabe: Schauen Sie sich die Dokumentation zu `sorted` und `operator.itemgetter` an. Wie kann man damit die Keys eines Dictionaries nach den Values sortieren?"
   ]
  },
  {
   "cell_type": "markdown",
   "metadata": {},
   "source": [
    "#### Reduktoren\n",
    "\n",
    "Neben dem generischen `reduce` gibt es noch eine Reihe eingebauter spezieller 'Reduktoren' für häufige Anwendungsfälle:\n",
    "\n",
    "* `all(it)` liefert `True` genau dann, wenn alle Items in `it` wahr sind\n",
    "* `any(it)` liefert `True` genau dann, wenn mindestens ein Item in `it` wahr ist\n",
    "* `max(it, key=func, default=wennsleerist)` liefert den größten Wert in `it`\n",
    "* `min(it, key=func, default=wennsleerist)` liefert den kleinsten Wert in `it`\n",
    "* `sum(it, start=0)` liefert die Summe aller Items in `it`"
   ]
  },
  {
   "cell_type": "markdown",
   "metadata": {},
   "source": [
    "#### itertools \n",
    "\n",
    "Das Modul `itertools` bietet zahlreiche Funktionen zum Umgang mit Iteratoren und Iterables.\n",
    "\n",
    "#### Iterables filtern\n",
    "\n",
    "* `compress(it, selector_it)` konsumiert zwei Iteratoren parallel und gibt diejenigen Items aus `it` zurück, für die `selector_it` wahr ist.\n",
    "* `takewhile(predicate, it)` liefert Elemente aus `it`, solange `predicate(item)` True liefert\n",
    "* `dropwhile(predicate, it)` überspringt Elemente aus `it`, bis `predicate(item)` das erste mal `False` liefert, dann wird der Rest von `it` ohne weitere Checks zurückgeliefert\n",
    "* `filter(predicate, it)` (nicht aus Itertools!) kennen wir schon\n",
    "* `filterfalse(predicate, it)` == filter(lambda t: not(predicate(t)), it)\n",
    "* `islice(it, stop)` oder `islice(it, start, stop, step=1)` Slicing auf Iteratoren\n"
   ]
  },
  {
   "cell_type": "markdown",
   "metadata": {},
   "source": [
    "Übung: Lassen Sie sich Zufalls-n-gramme (Hausaufgabe) liefern, bis eines mit `a` beginnt"
   ]
  },
  {
   "cell_type": "markdown",
   "metadata": {},
   "source": [
    "#### Mapping\n",
    "\n",
    "* `accumulate(it, [func])` liefert akkumulierte Summen (oder akkumulierte Funktion func)"
   ]
  },
  {
   "cell_type": "code",
   "execution_count": 67,
   "metadata": {
    "collapsed": false
   },
   "outputs": [
    {
     "data": {
      "text/plain": [
       "[0, 1, 3, 6, 10]"
      ]
     },
     "execution_count": 67,
     "metadata": {},
     "output_type": "execute_result"
    }
   ],
   "source": [
    "import itertools\n",
    "list(itertools.accumulate(range(5)))"
   ]
  },
  {
   "cell_type": "code",
   "execution_count": 68,
   "metadata": {
    "collapsed": false
   },
   "outputs": [
    {
     "name": "stdout",
     "output_type": "stream",
     "text": [
      "1 * 2 = 2\n",
      "2 * 3 = 6\n",
      "6 * 4 = 24\n"
     ]
    },
    {
     "data": {
      "text/plain": [
       "[1, 2, 6, 24]"
      ]
     },
     "execution_count": 68,
     "metadata": {},
     "output_type": "execute_result"
    }
   ],
   "source": [
    "def prod(a, b):\n",
    "    print(a, '*', b, '=', a*b)\n",
    "    return a*b\n",
    "list(itertools.accumulate(range(1,5), prod))"
   ]
  },
  {
   "cell_type": "markdown",
   "metadata": {},
   "source": [
    "* `enumerate(it, start=0)` (built-in!) liefert Tupel (count, item)\n",
    "* `map` kennen wir schon\n",
    "* `starmap(func, it)` ruft `func(*item)` auf jedem item in it auf:"
   ]
  },
  {
   "cell_type": "code",
   "execution_count": 70,
   "metadata": {
    "collapsed": false
   },
   "outputs": [
    {
     "data": {
      "text/plain": [
       "[0.3333333333333333, 0.8, 0.6666666666666666]"
      ]
     },
     "execution_count": 70,
     "metadata": {},
     "output_type": "execute_result"
    }
   ],
   "source": [
    "pairs = [(1,3), (4,5), (2,3)]\n",
    "list(itertools.starmap(operator.truediv, pairs))"
   ]
  },
  {
   "cell_type": "markdown",
   "metadata": {},
   "source": [
    "#### Mehrere Iterables"
   ]
  },
  {
   "cell_type": "markdown",
   "metadata": {},
   "source": [
    "* `chain(it1, ..., itN)` klebt die Iteratoren nahtlos zusammen\n",
    "* `chain.from_iterable(it)` dasselbe, wenn `it` die Iteratoren liefert (z.B. Liste von Iteratoren)\n",
    "* `product(it1, ..., itN,  repeat=1)` Kartesisches Produkt → Tupel:"
   ]
  },
  {
   "cell_type": "code",
   "execution_count": 74,
   "metadata": {
    "collapsed": false
   },
   "outputs": [
    {
     "data": {
      "text/plain": [
       "[(1, 'A'), (1, 'B'), (2, 'A'), (2, 'B'), (3, 'A'), (3, 'B')]"
      ]
     },
     "execution_count": 74,
     "metadata": {},
     "output_type": "execute_result"
    }
   ],
   "source": [
    "list(itertools.product([1,2,3], 'AB'))"
   ]
  },
  {
   "cell_type": "markdown",
   "metadata": {},
   "source": [
    "* `zip(it1, ..., itN)` (Builtin!) Verschränkt die Iteratoren → Tupel:"
   ]
  },
  {
   "cell_type": "code",
   "execution_count": 78,
   "metadata": {
    "collapsed": false
   },
   "outputs": [
    {
     "data": {
      "text/plain": [
       "[(1, 'A'), (2, 'B')]"
      ]
     },
     "execution_count": 78,
     "metadata": {},
     "output_type": "execute_result"
    }
   ],
   "source": [
    "list(zip([1,2,3], 'AB'))"
   ]
  },
  {
   "cell_type": "code",
   "execution_count": 80,
   "metadata": {
    "collapsed": false
   },
   "outputs": [
    {
     "data": {
      "text/plain": [
       "[(1, 'A'), (2, 'B'), (3, '_')]"
      ]
     },
     "execution_count": 80,
     "metadata": {},
     "output_type": "execute_result"
    }
   ],
   "source": [
    "list(itertools.zip_longest([1,2,3], 'AB', fillvalue='_'))"
   ]
  },
  {
   "cell_type": "markdown",
   "metadata": {},
   "source": [
    "#### Jedes Eingabeitem → mehrere Ausgabeitems\n",
    "\n",
    "* `combinations(it, out_len)` → alle `out_len`-lange Kombinationen aus `it`\n",
    "* `combinations_with_replacement(it, out_len)` → ebenso, mit zurücklegen\n",
    "* `permutations(it, out_len=len(list(it)))`: Permutationen der Länge out_len"
   ]
  },
  {
   "cell_type": "code",
   "execution_count": 84,
   "metadata": {
    "collapsed": false
   },
   "outputs": [
    {
     "data": {
      "text/plain": [
       "[('A', 'B'), ('A', 'C'), ('B', 'C')]"
      ]
     },
     "execution_count": 84,
     "metadata": {},
     "output_type": "execute_result"
    }
   ],
   "source": [
    "list(itertools.combinations('ABC', 2))"
   ]
  },
  {
   "cell_type": "code",
   "execution_count": 85,
   "metadata": {
    "collapsed": false
   },
   "outputs": [
    {
     "data": {
      "text/plain": [
       "[('A', 'A'), ('A', 'B'), ('A', 'C'), ('B', 'B'), ('B', 'C'), ('C', 'C')]"
      ]
     },
     "execution_count": 85,
     "metadata": {},
     "output_type": "execute_result"
    }
   ],
   "source": [
    "list(itertools.combinations_with_replacement('ABC', 2))"
   ]
  },
  {
   "cell_type": "code",
   "execution_count": 90,
   "metadata": {
    "collapsed": false
   },
   "outputs": [
    {
     "data": {
      "text/plain": [
       "[('A', 'B', 'C'),\n",
       " ('A', 'C', 'B'),\n",
       " ('B', 'A', 'C'),\n",
       " ('B', 'C', 'A'),\n",
       " ('C', 'A', 'B'),\n",
       " ('C', 'B', 'A')]"
      ]
     },
     "execution_count": 90,
     "metadata": {},
     "output_type": "execute_result"
    }
   ],
   "source": [
    "list(itertools.permutations('ABC', 3))"
   ]
  },
  {
   "cell_type": "markdown",
   "metadata": {},
   "source": [
    "#### Unendliche Sequenzen:\n",
    "\n",
    "* `count(start=0, step=1)` wie `range`, aber ohne Ende\n",
    "* `cycle(it)` unendlich viele Wiederholungen von `it`\n",
    "* `repeat(item)` unendlich viele Wiederholungen von item"
   ]
  },
  {
   "cell_type": "code",
   "execution_count": 103,
   "metadata": {
    "collapsed": false
   },
   "outputs": [],
   "source": [
    "def ll(it, limit=10):\n",
    "    \"\"\"Limited list of limit items from iterator it\"\"\"\n",
    "    return list(itertools.islice(it, limit))"
   ]
  },
  {
   "cell_type": "code",
   "execution_count": 104,
   "metadata": {
    "collapsed": false
   },
   "outputs": [
    {
     "data": {
      "text/plain": [
       "[0, 1, 2, 3, 4, 5, 6, 7, 8, 9]"
      ]
     },
     "execution_count": 104,
     "metadata": {},
     "output_type": "execute_result"
    }
   ],
   "source": [
    "ll(itertools.count())"
   ]
  },
  {
   "cell_type": "code",
   "execution_count": 105,
   "metadata": {
    "collapsed": false
   },
   "outputs": [
    {
     "data": {
      "text/plain": [
       "['A', 'B', 'C', 'A', 'B', 'C', 'A', 'B', 'C', 'A']"
      ]
     },
     "execution_count": 105,
     "metadata": {},
     "output_type": "execute_result"
    }
   ],
   "source": [
    "ll(itertools.cycle('ABC'))"
   ]
  },
  {
   "cell_type": "code",
   "execution_count": 106,
   "metadata": {
    "collapsed": false
   },
   "outputs": [
    {
     "data": {
      "text/plain": [
       "['A', 'A', 'A', 'A', 'A', 'A', 'A', 'A', 'A', 'A']"
      ]
     },
     "execution_count": 106,
     "metadata": {},
     "output_type": "execute_result"
    }
   ],
   "source": [
    "ll(itertools.repeat('A'))"
   ]
  },
  {
   "cell_type": "markdown",
   "metadata": {},
   "source": [
    "#### Re-Arrangement\n",
    "\n",
    "* `reverse(it)` (Builtin!) dreht die Reihenfolge um\n",
    "* `tee(it, n=2)` liefert ein Tupel aus n unabhängigen Iteratoren, die die Items aus `it` liefern\n",
    "* `groupby(it, key=None) -> (key, group)` gruppiert nach Wert oder alternativ anhand der Zugriffsfunktion key"
   ]
  },
  {
   "cell_type": "code",
   "execution_count": 107,
   "metadata": {
    "collapsed": false
   },
   "outputs": [
    {
     "data": {
      "text/plain": [
       "[('L', <itertools._grouper at 0x7f442852b6a0>),\n",
       " ('A', <itertools._grouper at 0x7f442852bcc0>),\n",
       " ('G', <itertools._grouper at 0x7f442852b7f0>)]"
      ]
     },
     "execution_count": 107,
     "metadata": {},
     "output_type": "execute_result"
    }
   ],
   "source": [
    "list(itertools.groupby('LLLLAAGGG'))"
   ]
  },
  {
   "cell_type": "code",
   "execution_count": 109,
   "metadata": {
    "collapsed": false
   },
   "outputs": [
    {
     "name": "stdout",
     "output_type": "stream",
     "text": [
      "L → ['L', 'L', 'L', 'L']\n",
      "A → ['A', 'A']\n",
      "G → ['G', 'G']\n"
     ]
    }
   ],
   "source": [
    "for char, group in itertools.groupby('LLLLAAGG'):\n",
    "    print(char, '→', list(group))"
   ]
  },
  {
   "cell_type": "code",
   "execution_count": 114,
   "metadata": {
    "collapsed": false
   },
   "outputs": [
    {
     "name": "stdout",
     "output_type": "stream",
     "text": [
      "3 → ['Ich', 'bin', 'ein']\n",
      "9 → ['komischer']\n",
      "12 → ['Beispielsatz']\n"
     ]
    }
   ],
   "source": [
    "s = 'Ich bin ein komischer Beispielsatz'.split()\n",
    "for l, words in itertools.groupby(s, key=len):\n",
    "    print(l, '→', list(words))"
   ]
  }
 ],
 "metadata": {
  "kernelspec": {
   "display_name": "Python 3",
   "language": "python",
   "name": "python3"
  },
  "language_info": {
   "codemirror_mode": {
    "name": "ipython",
    "version": 3
   },
   "file_extension": ".py",
   "mimetype": "text/x-python",
   "name": "python",
   "nbconvert_exporter": "python",
   "pygments_lexer": "ipython3",
   "version": "3.4.3"
  }
 },
 "nbformat": 4,
 "nbformat_minor": 0
}
