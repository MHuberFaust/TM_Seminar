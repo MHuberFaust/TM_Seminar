{
 "cells": [
  {
   "cell_type": "markdown",
   "metadata": {},
   "source": [
    "## Python für Fortgeschrittene 2"
   ]
  },
  {
   "cell_type": "markdown",
   "metadata": {},
   "source": [
    "# Funktionales Programmieren I"
   ]
  },
  {
   "cell_type": "markdown",
   "metadata": {},
   "source": [
    "### Programmierparadigmen\n",
    "\n",
    "Programmierparadigma = grundlegende Sichtweise auf Programm + Daten → Programmierstil\n",
    "\n",
    "* __Imperativ__ (dem Computer Befehle erteilen)\n",
    "\n",
    "    * Befehle, (bedingte) Sprünge → Assembler\n",
    "    * __strukturiert__ (+ Kontrollstrukturen wie Schleifen)\n",
    "    * __prozedural__ (+ Unterprogramme / Prozeduren / Funktionen)  (Pascal, C)\n",
    "    * __modular__ (+ Module als Gliederungseinheit)  (Modula)\n",
    "    * __objektorientiert__ (Daten + Programm = Objekt; Kapselung, Vererbung, Polymorphie)\n",
    "\n",
    "* __Deklarativ__ (dem Computer das Problem beschreiben)\n",
    "\n",
    "    * __funktional__ (orientiert am mathematischen Funktionsbegriff)\n",
    "    * __logisch__ (orientiert an der Prädikatenlogik)\n",
    "\n",
    "* Weiterentwicklungen, Mischformen, orthogonale Konzepte"
   ]
  },
  {
   "cell_type": "markdown",
   "metadata": {},
   "source": [
    "### Grundprinzipien funktionaler Programmierung\n",
    "\n",
    "* Zentrales Strukturierungsmerkmal bilden __Funktionen__\n",
    "* Funktion im mathematischen Sinne:\n",
    "\n",
    "    * Funktion bildet Parameter auf (Funktions-, Rückgabe-) Wert ab\n",
    "    * Rückgabewert nur von Parametern (+ ggf. Kontext) abhängig\n",
    "    * keine Nebeneffekte (_reine_ funktionale Programmierung)\n",
    "    \n",
    "* __referentielle Transparenz__: Der Wert eines Ausdrucks hängt nur von seiner Umgebung ab, nicht vom Zeitpunkt der Auswertung.\n",
    "\n",
    "    * unveränderliche Objekte _(immutable)_\n",
    "    * keine (überschreibende) Zuweisungen (aber Definition/Variablenbindung)    "
   ]
  },
  {
   "cell_type": "code",
   "execution_count": 1,
   "metadata": {
    "collapsed": true
   },
   "outputs": [],
   "source": [
    "x = \"langer oder komplexer Kram etc.\" # erlaubt, x wird an Wert gebunden\n",
    "x = x + \"bla\"                         # verboten, x ändert Wert"
   ]
  },
  {
   "cell_type": "markdown",
   "metadata": {},
   "source": [
    "* Funktionen als _first class citizen_\n",
    "\n",
    "    * kann man herumreichen wie Daten\n",
    "    * __Funktionen höherer Ordnung__, z.B. Sortieralgorithmus bekommt eine Vergleichsfunktion als Parameter, oder `map(f, S)` → Sequenz, in der `f` auf jedes Element aus `S` angewendet wurde\n",
    "    \n",
    "* Modell: Daten fließen durch eine Kette von Funktionen\n",
    "* typisch: Arbeit auf _Sequenzen_ (die nicht zwingend materialisiert werden)\n",
    "* typisch: unveränderliche, eher kurzlebige Objekte (statt langlebiger Objekte, die ihren Zustand ändern)\n",
    "* __Rekursion__ zur Komplexitätskontrolle (und statt Iteration)"
   ]
  },
  {
   "cell_type": "markdown",
   "metadata": {},
   "source": [
    "#### Vorteile des funktionalen Programmierens"
   ]
  },
  {
   "cell_type": "markdown",
   "metadata": {},
   "source": [
    "* __Modularität__ (sehr kleine Funktionen, die leichter wiederzuverwenden und modular einzusetzen sind)\n",
    "* Reduktion auf eine Abstraktionsebene, z.B. Trennung generischer Aufgaben (Iteration über Datenstruktur …) von spezifischer Funktion (z.B. berechne irgendwas)\n",
    "* Parallelisierbarkeit (z.B. _Streams_ in Java 8; Map/Reduce)\n",
    "* Formale Beweisbarkeit / Verifizierbarkeit (in Grenzen)\n",
    "* leichtere Fehlersuche, leichtere Tests (kleine Funktionen, die nur von Parametern abhängig sind)"
   ]
  },
  {
   "cell_type": "markdown",
   "metadata": {},
   "source": [
    "### Funktionales Programmieren in Python"
   ]
  },
  {
   "cell_type": "markdown",
   "metadata": {},
   "source": [
    "Wie immer gilt in Python auch hier: Python ermöglicht die Verwendung des funktionalen Paradigmas, erzwingt es aber nicht durch Einschränkungen, wie es reine funktionale Programmiersprachen tun. Typischerweise verwendet man in Python prozedurale, objekt-orientierte und funktionale Verfahren, z.B. kann man objekt-orientiertes und funktionales Programmieren verwenden, indem man Funktionen definiert, die als Ein- und Ausgabe Objekte verwenden."
   ]
  },
  {
   "cell_type": "markdown",
   "metadata": {},
   "source": [
    "In Python wird das funktionale Programmieren u.a. durch folgende Komponenten realisiert:"
   ]
  },
  {
   "cell_type": "markdown",
   "metadata": {},
   "source": [
    "* Funktionen, lambda-Ausdrücke\n",
    "* Iterables & Iteratoren\n",
    "* (List / Dictionary / Set / Generator) Comprehensions\n",
    "* Generatoren\n",
    "* map(), filter()\n",
    "* itertools"
   ]
  },
  {
   "cell_type": "markdown",
   "metadata": {},
   "source": [
    "### Iterables und Iteratoren"
   ]
  },
  {
   "cell_type": "markdown",
   "metadata": {},
   "source": [
    "Python erwartet in bestimmten Kontexten ein iterierbares Objekt, z.B. in der for-Schleife:"
   ]
  },
  {
   "cell_type": "code",
   "execution_count": 4,
   "metadata": {
    "collapsed": false
   },
   "outputs": [
    {
     "name": "stdout",
     "output_type": "stream",
     "text": [
      "0\n",
      "1\n",
      "2\n"
     ]
    }
   ],
   "source": [
    "a = range(3)\n",
    "for i in a:\n",
    "    print(str(i))"
   ]
  },
  {
   "cell_type": "markdown",
   "metadata": {},
   "source": [
    "Welche Anforderungen muss a erfüllen, damit so eine `for`-Schleife funktionieren kann?"
   ]
  },
  {
   "cell_type": "markdown",
   "metadata": {},
   "source": [
    "<p style=\"height:1024px;\">...</p>"
   ]
  },
  {
   "cell_type": "markdown",
   "metadata": {},
   "source": [
    "* `iter(iterable)` erzeugt einen Iterator                                         \n",
    "* `next(iterator)` liefert den nächsten Wert oder Exception `StopIteration`                                         "
   ]
  },
  {
   "cell_type": "code",
   "execution_count": 24,
   "metadata": {
    "collapsed": true
   },
   "outputs": [],
   "source": [
    "iterable = range(3)\n",
    "iterator = iter(iterable)"
   ]
  },
  {
   "cell_type": "code",
   "execution_count": 26,
   "metadata": {
    "collapsed": false
   },
   "outputs": [
    {
     "data": {
      "text/plain": [
       "<range_iterator at 0x7f9f9c949690>"
      ]
     },
     "execution_count": 26,
     "metadata": {},
     "output_type": "execute_result"
    }
   ],
   "source": [
    "iterator"
   ]
  },
  {
   "cell_type": "code",
   "execution_count": 27,
   "metadata": {
    "collapsed": false
   },
   "outputs": [
    {
     "name": "stdout",
     "output_type": "stream",
     "text": [
      "0\n",
      "1\n",
      "2\n"
     ]
    }
   ],
   "source": [
    "print(next(iterator))\n",
    "print(next(iterator))\n",
    "print(next(iterator))"
   ]
  },
  {
   "cell_type": "code",
   "execution_count": 28,
   "metadata": {
    "collapsed": false
   },
   "outputs": [
    {
     "ename": "StopIteration",
     "evalue": "",
     "output_type": "error",
     "traceback": [
      "\u001b[1;31m---------------------------------------------------------------------------\u001b[0m",
      "\u001b[1;31mStopIteration\u001b[0m                             Traceback (most recent call last)",
      "\u001b[1;32m<ipython-input-28-369d18de2e56>\u001b[0m in \u001b[0;36m<module>\u001b[1;34m()\u001b[0m\n\u001b[1;32m----> 1\u001b[1;33m \u001b[0mprint\u001b[0m\u001b[1;33m(\u001b[0m\u001b[0mnext\u001b[0m\u001b[1;33m(\u001b[0m\u001b[0miterator\u001b[0m\u001b[1;33m)\u001b[0m\u001b[1;33m)\u001b[0m\u001b[1;33m\u001b[0m\u001b[0m\n\u001b[0m",
      "\u001b[1;31mStopIteration\u001b[0m: "
     ]
    }
   ],
   "source": [
    "print(next(iterator))"
   ]
  },
  {
   "cell_type": "markdown",
   "metadata": {},
   "source": [
    "Das ist äquivalent zu "
   ]
  },
  {
   "cell_type": "code",
   "execution_count": 29,
   "metadata": {
    "collapsed": false
   },
   "outputs": [
    {
     "name": "stdout",
     "output_type": "stream",
     "text": [
      "1\n",
      "2\n",
      "5\n",
      "7\n"
     ]
    }
   ],
   "source": [
    "for i in iter(a):\n",
    "    print(str(i))"
   ]
  },
  {
   "cell_type": "markdown",
   "metadata": {},
   "source": [
    "Man kann sich die vollständige Ausgabe eines Iterators ausgeben lassen, wenn man ihn als Parameter der list()- oder tuple() Funktion übergibt. "
   ]
  },
  {
   "cell_type": "code",
   "execution_count": 5,
   "metadata": {
    "collapsed": false
   },
   "outputs": [
    {
     "data": {
      "text/plain": [
       "[1, 2, 3]"
      ]
     },
     "execution_count": 5,
     "metadata": {},
     "output_type": "execute_result"
    }
   ],
   "source": [
    "#beispiel\n",
    "a = [1, 2, 3,]\n",
    "my_iterator = iter(a)\n",
    "list(my_iterator)"
   ]
  },
  {
   "cell_type": "code",
   "execution_count": 10,
   "metadata": {
    "collapsed": false
   },
   "outputs": [
    {
     "data": {
      "text/plain": [
       "(0, 1, 2)"
      ]
     },
     "execution_count": 10,
     "metadata": {},
     "output_type": "execute_result"
    }
   ],
   "source": [
    "my_iterator = iter(a)\n",
    "tuple(my_iterator)"
   ]
  },
  {
   "cell_type": "markdown",
   "metadata": {},
   "source": [
    "Frage: Warum habe ich im letzten Beispiel den Iterator neu erzeugt? Kann man das weglassen?"
   ]
  },
  {
   "cell_type": "markdown",
   "metadata": {},
   "source": [
    "### Implementierung von Iterables & Iteratoren\n",
    "\n",
    "* Iterable: Methode __iter__ liefert einen Iterator\n",
    "* Iterator: Methode __next__ liefert das nächste Element\n",
    "\n",
    "Dumme Implementierung eines Strings, über den man tokenweise iterieren kann:"
   ]
  },
  {
   "cell_type": "code",
   "execution_count": 6,
   "metadata": {
    "collapsed": true
   },
   "outputs": [],
   "source": [
    "class TokenString:\n",
    "    \n",
    "    def __init__(self, string):\n",
    "        self.string = string\n",
    "        self.tokens = self.string.split()\n",
    "        \n",
    "    def __iter__(self):\n",
    "        return iter(self.tokens)\n",
    "    \n",
    "\n",
    "    \n",
    "class _TokenIterator():\n",
    "    # aus didaktischen Gründen ... \n",
    "    def __init__(self, tokenString):\n",
    "        self.tokens = tokenString.tokens\n",
    "        self.pos = -1\n",
    "        \n",
    "    def __next__(self):\n",
    "        self.pos += 1\n",
    "        if self.pos < len(self.tokens):\n",
    "            return self.tokens[self.pos]\n",
    "        else:\n",
    "            raise StopIteration()"
   ]
  },
  {
   "cell_type": "code",
   "execution_count": 7,
   "metadata": {
    "collapsed": false
   },
   "outputs": [
    {
     "data": {
      "text/plain": [
       "['Ich', 'bin', 'ein', 'String', 'aus', 'Tokens']"
      ]
     },
     "execution_count": 7,
     "metadata": {},
     "output_type": "execute_result"
    }
   ],
   "source": [
    "list(TokenString(\"Ich bin ein String aus Tokens\"))"
   ]
  },
  {
   "cell_type": "markdown",
   "metadata": {},
   "source": [
    "## Comprehensions\n",
    "\n",
    "__Comprehensions__ erzeugen eine _iterable_ Python-Datenstruktur (Liste, Menge, Dictionary, Generator), indem sie deren Aufbau beschreiben. Die Schreibweise orientiert sich an der Mengenschreibweise in der Mathematik:\n",
    "\n",
    "$$\n",
    "SQ = \\{ n² \\mid n \\in \\mathbb{N} \\}\n",
    "$$"
   ]
  },
  {
   "cell_type": "markdown",
   "metadata": {},
   "source": [
    "### List Comprehension\n",
    "\n",
    "Eine _List Comprehension_ erzeugt eine Liste.\n",
    "\n",
    "Beispiel: Quadratzahlen bis $9^2$. Zunächst mit einer klassischen `for`-Schleife:"
   ]
  },
  {
   "cell_type": "code",
   "execution_count": 16,
   "metadata": {
    "collapsed": false
   },
   "outputs": [
    {
     "data": {
      "text/plain": [
       "[0, 1, 4, 9, 16, 25, 36, 49, 64, 81]"
      ]
     },
     "execution_count": 16,
     "metadata": {},
     "output_type": "execute_result"
    }
   ],
   "source": [
    "squared = []\n",
    "for x in range(10):\n",
    "    squared.append(x**2)\n",
    "squared"
   ]
  },
  {
   "cell_type": "markdown",
   "metadata": {},
   "source": [
    "Und hier die Version mit List Comprehension:"
   ]
  },
  {
   "cell_type": "code",
   "execution_count": 30,
   "metadata": {
    "collapsed": false
   },
   "outputs": [
    {
     "data": {
      "text/plain": [
       "[0, 1, 4, 9, 16, 25, 36, 49, 64, 81]"
      ]
     },
     "execution_count": 30,
     "metadata": {},
     "output_type": "execute_result"
    }
   ],
   "source": [
    "[x**2 for x in range(10)]"
   ]
  },
  {
   "cell_type": "markdown",
   "metadata": {},
   "source": [
    "Natürlich kann man den Rückgabewert von List Comprehensions auch in einer Variablen abspeichern."
   ]
  },
  {
   "cell_type": "code",
   "execution_count": 31,
   "metadata": {
    "collapsed": false
   },
   "outputs": [
    {
     "data": {
      "text/plain": [
       "[0, 1, 4, 9, 16, 25, 36, 49, 64, 81]"
      ]
     },
     "execution_count": 31,
     "metadata": {},
     "output_type": "execute_result"
    }
   ],
   "source": [
    "squared = [x**2 for x in range(10)]\n",
    "squared"
   ]
  },
  {
   "cell_type": "markdown",
   "metadata": {},
   "source": [
    "Vorteile:\n",
    "\n",
    "* kürzere Schreibweise\n",
    "* klarere Schreibweise (in so einem recht einfachen Beispiel)\n",
    "* klar begrenzter Scope der Variablen, keine Nebeneffekte, keine Beeinflussung\n",
    "* kein Reallozieren / Erweitern der Liste\n",
    "* Optimierungspotential für Python"
   ]
  },
  {
   "cell_type": "code",
   "execution_count": 33,
   "metadata": {
    "collapsed": true
   },
   "outputs": [],
   "source": [
    "def squared_iter(iterable):\n",
    "    squared = []\n",
    "    for x in iterable:\n",
    "        squared.append(x**2)\n",
    "    return squared\n",
    "\n",
    "def squared_comp(iterable):\n",
    "    return [x**2 for x in iterable]"
   ]
  },
  {
   "cell_type": "code",
   "execution_count": 34,
   "metadata": {
    "collapsed": false
   },
   "outputs": [
    {
     "name": "stdout",
     "output_type": "stream",
     "text": [
      "100 loops, best of 3: 3.04 ms per loop\n"
     ]
    }
   ],
   "source": [
    "%timeit squared_iter(range(10000))"
   ]
  },
  {
   "cell_type": "code",
   "execution_count": 35,
   "metadata": {
    "collapsed": false
   },
   "outputs": [
    {
     "name": "stdout",
     "output_type": "stream",
     "text": [
      "100 loops, best of 3: 2.58 ms per loop\n"
     ]
    }
   ],
   "source": [
    "%timeit squared_comp(range(10000))"
   ]
  },
  {
   "cell_type": "markdown",
   "metadata": {},
   "source": [
    "(`%timeit ausdruck` ist Jupyter-Syntactic Sugar für 'miss die Performanz von `ausdruck`, kapselt das Modul `timeit` aus der Python-Standardlibrary)"
   ]
  },
  {
   "cell_type": "markdown",
   "metadata": {},
   "source": [
    "### Filter\n",
    "\n",
    "Man kann das Iterable filtern. z.B. Quadratzahlen nur für gerade Zahlen:"
   ]
  },
  {
   "cell_type": "code",
   "execution_count": 41,
   "metadata": {
    "collapsed": false
   },
   "outputs": [
    {
     "data": {
      "text/plain": [
       "[0, 4, 16, 36, 64]"
      ]
     },
     "execution_count": 41,
     "metadata": {},
     "output_type": "execute_result"
    }
   ],
   "source": [
    "[x**2 for x in range(10) if x % 2 == 0]"
   ]
  },
  {
   "cell_type": "markdown",
   "metadata": {},
   "source": [
    "### Geschachtelte Schleifen"
   ]
  },
  {
   "cell_type": "markdown",
   "metadata": {
    "collapsed": false
   },
   "source": [
    "Man kann in list comprehensions auch mehrere geschachtelte for-Schleifen aufrufen:"
   ]
  },
  {
   "cell_type": "code",
   "execution_count": 36,
   "metadata": {
    "collapsed": false
   },
   "outputs": [
    {
     "data": {
      "text/plain": [
       "[(1, 3), (1, 4), (2, 3), (2, 1), (2, 4), (3, 1), (3, 4)]"
      ]
     },
     "execution_count": 36,
     "metadata": {},
     "output_type": "execute_result"
    }
   ],
   "source": [
    "#Aufgabe: vergleiche zwei Zahlenlisten und gebe alle Zahlenkombinationen aus, die ungleich sind\n",
    "#Erst einmal die traditionelle Lösung mit geschachtelten Schleifen:\n",
    "combs = [] \n",
    "for x in [1,2,3 ]: \n",
    "    for y in [3,1,4]: \n",
    "        if x != y: \n",
    "            combs.append((x, y))\n",
    "combs"
   ]
  },
  {
   "cell_type": "markdown",
   "metadata": {},
   "source": [
    "Und nun als List Comprehension:"
   ]
  },
  {
   "cell_type": "code",
   "execution_count": 38,
   "metadata": {
    "collapsed": false
   },
   "outputs": [
    {
     "data": {
      "text/plain": [
       "[(1, 3), (1, 4), (2, 3), (2, 1), (2, 4), (3, 1), (3, 4)]"
      ]
     },
     "execution_count": 38,
     "metadata": {},
     "output_type": "execute_result"
    }
   ],
   "source": [
    "[(x,y) \n",
    "     for x in [1,2,3] \n",
    "     for y in [3,1,4]\n",
    "     if x != y]"
   ]
  },
  {
   "cell_type": "markdown",
   "metadata": {},
   "source": [
    "<h4>Aufgabe 1</h4>\n",
    "<p>Ersetzen Sie eine Reihe von Worten durch eine Reihe von Zahlen, die die Anzahl der Vokale anzeigen. Z.B.: \"Dies ist ein Satz\" -> \"2 1 2 1\". </p>\n"
   ]
  },
  {
   "cell_type": "code",
   "execution_count": null,
   "metadata": {
    "collapsed": false
   },
   "outputs": [],
   "source": [
    "\n"
   ]
  },
  {
   "cell_type": "markdown",
   "metadata": {},
   "source": [
    "### Set- und Dictionary Comprehensions\n",
    "\n",
    "Ein Äquivalent zu List Comprehensions gibt es auch für Mengen und Wörterbücher."
   ]
  },
  {
   "cell_type": "code",
   "execution_count": 47,
   "metadata": {
    "collapsed": false
   },
   "outputs": [
    {
     "name": "stdout",
     "output_type": "stream",
     "text": [
      "Liste: [0, 0, 0, 0, 0, 0, 0, 0, 0, 0, 0, 1, 2, 3, 4, 5, 6, 7, 8, 9, 0, 2, 4, 6, 8, 10, 12, 14, 16, 18, 0, 3, 6, 9, 12, 15, 18, 21, 24, 27, 0, 4, 8, 12, 16, 20, 24, 28, 32, 36, 0, 5, 10, 15, 20, 25, 30, 35, 40, 45, 0, 6, 12, 18, 24, 30, 36, 42, 48, 54, 0, 7, 14, 21, 28, 35, 42, 49, 56, 63, 0, 8, 16, 24, 32, 40, 48, 56, 64, 72, 0, 9, 18, 27, 36, 45, 54, 63, 72, 81]\n",
      "Menge: {0, 1, 2, 3, 4, 5, 6, 7, 8, 9, 10, 12, 14, 15, 16, 18, 20, 21, 24, 25, 27, 28, 30, 32, 35, 36, 40, 42, 45, 48, 49, 54, 56, 63, 64, 72, 81}\n"
     ]
    }
   ],
   "source": [
    "print(\"Liste:\", [ x*y for x in range(10) for y in range(10)])\n",
    "print(\"Menge:\", { x*y for x in range(10) for y in range(10)})"
   ]
  },
  {
   "cell_type": "code",
   "execution_count": 54,
   "metadata": {
    "collapsed": false
   },
   "outputs": [
    {
     "data": {
      "text/plain": [
       "{0: 1, 1: 2, 2: 4, 3: 8, 4: 16, 5: 32, 6: 64, 7: 128, 8: 256, 9: 512, 10: 1024}"
      ]
     },
     "execution_count": 54,
     "metadata": {},
     "output_type": "execute_result"
    }
   ],
   "source": [
    "{ n : 2**n for n in range(11) }"
   ]
  },
  {
   "cell_type": "markdown",
   "metadata": {},
   "source": [
    "### Generator Comprehensions\n",
    "\n",
    "Mit runden Klammern erzeugt man eine Generator Comprehension:"
   ]
  },
  {
   "cell_type": "code",
   "execution_count": 6,
   "metadata": {
    "collapsed": false
   },
   "outputs": [
    {
     "data": {
      "text/plain": [
       "<generator object <genexpr> at 0x7f9f9c0dd728>"
      ]
     },
     "execution_count": 6,
     "metadata": {},
     "output_type": "execute_result"
    }
   ],
   "source": [
    "g = (x**2 for x in range(10))\n",
    "g"
   ]
  },
  {
   "cell_type": "markdown",
   "metadata": {},
   "source": [
    "Während List Comprehensions etc. immer eine vollständig materialisierte Liste erzeugen, ist dies bei Generator-Objekten nicht der Fall. Unser Generator-Objekt `g` ist in etwa äquivalent zu folgendem Objekt:"
   ]
  },
  {
   "cell_type": "code",
   "execution_count": 8,
   "metadata": {
    "collapsed": true
   },
   "outputs": [],
   "source": [
    "class SquareGenerator:\n",
    "    def __init__(self):\n",
    "        self.x_iterator = iter(range(10))\n",
    "    def __iter__(self):\n",
    "        return self\n",
    "    def __next__(self):\n",
    "        x = next(self.x_iterator)  \n",
    "        return x**2"
   ]
  },
  {
   "cell_type": "markdown",
   "metadata": {},
   "source": [
    "Mehr über Generatoren erfahren wir im nächsten Kapitel."
   ]
  },
  {
   "cell_type": "markdown",
   "metadata": {},
   "source": [
    "## Generatoren\n",
    "\n",
    "Wir haben oben bereits _Generator Expressions_ kennengelernt, die ähnlich wie List Expressions funktionieren, aber keine vollständig materialisierte Liste erzeugen, sondern einen _Generator_:"
   ]
  },
  {
   "cell_type": "code",
   "execution_count": 3,
   "metadata": {
    "collapsed": true
   },
   "outputs": [],
   "source": [
    "r = range(100000000)\n",
    "squares = [i**2 for i in r]  # Liste vollständig aufbauen -- dauert\n",
    "print(squares[:10])"
   ]
  },
  {
   "cell_type": "markdown",
   "metadata": {},
   "source": [
    "Mit einer _Generator Expression_ und der generischeren Funktion für Slicing, `islice` aus dem `itertools`-Package:"
   ]
  },
  {
   "cell_type": "code",
   "execution_count": 12,
   "metadata": {
    "collapsed": false
   },
   "outputs": [
    {
     "name": "stdout",
     "output_type": "stream",
     "text": [
      "[0, 1, 4, 9, 16, 25, 36, 49, 64, 81]\n"
     ]
    }
   ],
   "source": [
    "from itertools import islice\n",
    "r = range(100000000)\n",
    "squares = (i**2 for i in r)\n",
    "print(list(islice(squares, 0, 10)))"
   ]
  },
  {
   "cell_type": "markdown",
   "metadata": {},
   "source": [
    "Squares ist ein Generator, und zugleich ein Iterator."
   ]
  },
  {
   "cell_type": "code",
   "execution_count": 13,
   "metadata": {
    "collapsed": false
   },
   "outputs": [
    {
     "data": {
      "text/plain": [
       "<generator object <genexpr> at 0x7f59bc367a40>"
      ]
     },
     "execution_count": 13,
     "metadata": {},
     "output_type": "execute_result"
    }
   ],
   "source": [
    "squares"
   ]
  },
  {
   "cell_type": "markdown",
   "metadata": {},
   "source": [
    "Generatoren kann man nicht nur durch _Generator Expressions_ erzeugen, sondern auch mithilfe gewöhnlichem, imperativen Python-Code: __Eine Funktionsdefinition, die in Ihrem Body ein `yield`-Statement enthält, definiert eine Generatorfunktion. Eine Generatorfunktion erzeugt einen Generator.__ Hier ein einfaches Spielbeispiel:"
   ]
  },
  {
   "cell_type": "code",
   "execution_count": 31,
   "metadata": {
    "collapsed": false
   },
   "outputs": [],
   "source": [
    "def onetwothree():\n",
    "    print(\"One: \")    # ← print-Statements aus didaktischen Gründen …\n",
    "    yield 1\n",
    "    print(\"Two: \")\n",
    "    yield 2\n",
    "    print(\"Three: \")\n",
    "    yield 3\n",
    "    print(\"Finished.\")"
   ]
  },
  {
   "cell_type": "markdown",
   "metadata": {},
   "source": [
    "Wenn wir die Funktion aufrufen, erhalten wir einen Generator:"
   ]
  },
  {
   "cell_type": "code",
   "execution_count": 25,
   "metadata": {
    "collapsed": false
   },
   "outputs": [
    {
     "name": "stdout",
     "output_type": "stream",
     "text": [
      "<generator object onetwothree at 0x7f58dfc66e60>\n"
     ]
    }
   ],
   "source": [
    "g = onetwothree()\n",
    "print(g)"
   ]
  },
  {
   "cell_type": "markdown",
   "metadata": {},
   "source": [
    "Dieses Generatorobjekt können wir jetzt verwenden wie einen Iterator. Mit jedem Abruf des nächsten Elements wird die Funktion soweit ausgeführt, bis sie an ein `yield` kommt, und der Ausdruck rechts des Schlüsselworts ist dann das nächste Element:"
   ]
  },
  {
   "cell_type": "code",
   "execution_count": 26,
   "metadata": {
    "collapsed": false
   },
   "outputs": [
    {
     "name": "stdout",
     "output_type": "stream",
     "text": [
      "One: \n"
     ]
    },
    {
     "data": {
      "text/plain": [
       "1"
      ]
     },
     "execution_count": 26,
     "metadata": {},
     "output_type": "execute_result"
    }
   ],
   "source": [
    "next(g)"
   ]
  },
  {
   "cell_type": "code",
   "execution_count": 27,
   "metadata": {
    "collapsed": false
   },
   "outputs": [
    {
     "name": "stdout",
     "output_type": "stream",
     "text": [
      "Two: \n"
     ]
    },
    {
     "data": {
      "text/plain": [
       "2"
      ]
     },
     "execution_count": 27,
     "metadata": {},
     "output_type": "execute_result"
    }
   ],
   "source": [
    "next(g)"
   ]
  },
  {
   "cell_type": "code",
   "execution_count": 28,
   "metadata": {
    "collapsed": false
   },
   "outputs": [
    {
     "name": "stdout",
     "output_type": "stream",
     "text": [
      "Three: \n"
     ]
    },
    {
     "data": {
      "text/plain": [
       "3"
      ]
     },
     "execution_count": 28,
     "metadata": {},
     "output_type": "execute_result"
    }
   ],
   "source": [
    "next(g)"
   ]
  },
  {
   "cell_type": "code",
   "execution_count": 29,
   "metadata": {
    "collapsed": false
   },
   "outputs": [
    {
     "name": "stdout",
     "output_type": "stream",
     "text": [
      "Finished.\n"
     ]
    },
    {
     "ename": "StopIteration",
     "evalue": "",
     "output_type": "error",
     "traceback": [
      "\u001b[1;31m---------------------------------------------------------------------------\u001b[0m",
      "\u001b[1;31mStopIteration\u001b[0m                             Traceback (most recent call last)",
      "\u001b[1;32m<ipython-input-29-5f315c5de15b>\u001b[0m in \u001b[0;36m<module>\u001b[1;34m()\u001b[0m\n\u001b[1;32m----> 1\u001b[1;33m \u001b[0mnext\u001b[0m\u001b[1;33m(\u001b[0m\u001b[0mg\u001b[0m\u001b[1;33m)\u001b[0m\u001b[1;33m\u001b[0m\u001b[0m\n\u001b[0m",
      "\u001b[1;31mStopIteration\u001b[0m: "
     ]
    }
   ],
   "source": [
    "next(g)"
   ]
  },
  {
   "cell_type": "markdown",
   "metadata": {},
   "source": [
    "Generatoren können überall verwendet werden, wo ein Iterator/Iterable erwartet wird. Z.B. in Listen oder For-Schleifen."
   ]
  },
  {
   "cell_type": "code",
   "execution_count": 30,
   "metadata": {
    "collapsed": false
   },
   "outputs": [
    {
     "name": "stdout",
     "output_type": "stream",
     "text": [
      "One: \n",
      "Two: \n",
      "Three: \n",
      "Finished.\n",
      "[1, 2, 3]\n"
     ]
    }
   ],
   "source": [
    "print(list(onetwothree()))"
   ]
  },
  {
   "cell_type": "code",
   "execution_count": 34,
   "metadata": {
    "collapsed": false
   },
   "outputs": [
    {
     "name": "stdout",
     "output_type": "stream",
     "text": [
      "One: \n",
      "1² = 1\n",
      "Two: \n",
      "2² = 4\n",
      "Three: \n",
      "3² = 9\n",
      "Finished.\n"
     ]
    }
   ],
   "source": [
    "for i in onetwothree():\n",
    "    print(i, '² = ', i**2, sep='')"
   ]
  },
  {
   "cell_type": "code",
   "execution_count": 38,
   "metadata": {
    "collapsed": false
   },
   "outputs": [
    {
     "name": "stdout",
     "output_type": "stream",
     "text": [
      "One: \n",
      "Two: \n",
      "Three: \n",
      "Finished.\n"
     ]
    },
    {
     "data": {
      "text/plain": [
       "[1, 4, 9]"
      ]
     },
     "execution_count": 38,
     "metadata": {},
     "output_type": "execute_result"
    }
   ],
   "source": [
    "[i**2 for i in onetwothree()]"
   ]
  },
  {
   "cell_type": "markdown",
   "metadata": {},
   "source": [
    "Typischerweise verwendet man Generatoren mit Schleifen. Hier ein Beispiel (nach _Fluent Python_), das sowas wie `range` für beliebige Zahlentypen implementiert:"
   ]
  },
  {
   "cell_type": "code",
   "execution_count": 44,
   "metadata": {
    "collapsed": false
   },
   "outputs": [
    {
     "data": {
      "text/plain": [
       "[0.0,\n",
       " 0.3333333333333333,\n",
       " 0.6666666666666666,\n",
       " 1.0,\n",
       " 1.3333333333333333,\n",
       " 1.6666666666666665]"
      ]
     },
     "execution_count": 44,
     "metadata": {},
     "output_type": "execute_result"
    }
   ],
   "source": [
    "def progression(begin, step, end=None):\n",
    "    common_type = type(begin + step)      # Ergebnistyp ermitteln (vgl. type(1+1.0))\n",
    "    result = common_type(begin)           # für eine Sequenz mit konsistentem Typ\n",
    "    forever = end == None                 # kein Ende angegeben? Endlos hochzählen ...\n",
    "    index = 0\n",
    "    \n",
    "    while forever or result < end:\n",
    "        yield result                      # aktuelles Ergebnis liefern\n",
    "        index += 1\n",
    "        result = begin + step*index       # Floating-Point-Fehler nicht aufsummieren ...\n",
    "        \n",
    "list(progression(0, 1/3, 2))"
   ]
  },
  {
   "cell_type": "code",
   "execution_count": 64,
   "metadata": {
    "collapsed": false
   },
   "outputs": [
    {
     "data": {
      "text/plain": [
       "[Fraction(0, 1),\n",
       " Fraction(2, 3),\n",
       " Fraction(4, 3),\n",
       " Fraction(2, 1),\n",
       " Fraction(8, 3)]"
      ]
     },
     "execution_count": 64,
     "metadata": {},
     "output_type": "execute_result"
    }
   ],
   "source": [
    "from fractions import Fraction\n",
    "list(progression(0, Fraction(2,3), 3))"
   ]
  },
  {
   "cell_type": "markdown",
   "metadata": {},
   "source": [
    "#### Aufgabe G1\n",
    "\n",
    "`enumerate()` zählt Objekte durch:"
   ]
  },
  {
   "cell_type": "code",
   "execution_count": 67,
   "metadata": {
    "collapsed": false
   },
   "outputs": [
    {
     "name": "stdout",
     "output_type": "stream",
     "text": [
      "[(0, 'Ich'), (1, 'bin'), (2, 'ein'), (3, 'Test.')]\n"
     ]
    }
   ],
   "source": [
    "stuff = \"Ich bin ein Test.\".split()\n",
    "print(list(enumerate(stuff)))"
   ]
  },
  {
   "cell_type": "markdown",
   "metadata": {},
   "source": [
    "Bauen Sie `enumerate()` als Generator nach."
   ]
  },
  {
   "cell_type": "markdown",
   "metadata": {},
   "source": [
    "### `yield from`: Delegation in einem Iterator\n",
    "\n",
    "Manchmal wollen Sie in einem Iterator selbst faktisch die Inhalte aus einem anderen Iterable einkopieren. Z.B. für unseren einfachen Tokenizer hier:"
   ]
  },
  {
   "cell_type": "code",
   "execution_count": null,
   "metadata": {
    "collapsed": true
   },
   "outputs": [],
   "source": [
    "import re\n",
    "def tokenize(filename):\n",
    "    WORD = re.compile(r\"\\w+\")\n",
    "    with open(filename, encoding=\"utf-8\") as file:\n",
    "        for line in file:\n",
    "            for word in WORD.findall(line):\n",
    "                yield word"
   ]
  },
  {
   "cell_type": "markdown",
   "metadata": {},
   "source": [
    "Für die letzten beiden Zeilen gibt es eine einfachere Möglichkeit:"
   ]
  },
  {
   "cell_type": "code",
   "execution_count": 70,
   "metadata": {
    "collapsed": false
   },
   "outputs": [],
   "source": [
    "import re\n",
    "def tokenize(filename):\n",
    "    WORD = re.compile(r\"\\w+\")\n",
    "    with open(filename, encoding=\"utf-8\") as file:\n",
    "        for line in file:\n",
    "            yield from WORD.findall(line)          "
   ]
  },
  {
   "cell_type": "code",
   "execution_count": null,
   "metadata": {
    "collapsed": true
   },
   "outputs": [],
   "source": []
  },
  {
   "cell_type": "markdown",
   "metadata": {},
   "source": [
    "### Die Funktionen map(), filter(), und functools.reduce()"
   ]
  },
  {
   "cell_type": "markdown",
   "metadata": {},
   "source": [
    "#### map()"
   ]
  },
  {
   "cell_type": "markdown",
   "metadata": {},
   "source": [
    "map(FunktionX, Liste)<br/> \n",
    "Die Funktion FunktionX wird auf jedes Element der Liste angewandt. Ausgabe ist ein Iterator über eine neue Liste mit den Ergebnissen"
   ]
  },
  {
   "cell_type": "code",
   "execution_count": 61,
   "metadata": {
    "collapsed": false
   },
   "outputs": [
    {
     "data": {
      "text/plain": [
       "[8, 10, 8]"
      ]
     },
     "execution_count": 61,
     "metadata": {},
     "output_type": "execute_result"
    }
   ],
   "source": [
    "a = [\"ein Haus\", \"eine Tasse\", \"ein Kind\"]\n",
    "list(map(len, a))"
   ]
  },
  {
   "cell_type": "code",
   "execution_count": 62,
   "metadata": {
    "collapsed": false
   },
   "outputs": [
    {
     "data": {
      "text/plain": [
       "[8, 10, 8]"
      ]
     },
     "execution_count": 62,
     "metadata": {},
     "output_type": "execute_result"
    }
   ],
   "source": [
    "[len(item) for item in a]"
   ]
  },
  {
   "cell_type": "markdown",
   "metadata": {},
   "source": [
    "prozedurale Schreibweise:"
   ]
  },
  {
   "cell_type": "code",
   "execution_count": 63,
   "metadata": {
    "collapsed": false
   },
   "outputs": [
    {
     "data": {
      "text/plain": [
       "[8, 10, 8]"
      ]
     },
     "execution_count": 63,
     "metadata": {},
     "output_type": "execute_result"
    }
   ],
   "source": [
    "lengths = []\n",
    "for item in a:\n",
    "    lengths.append(len(item))\n",
    "lengths"
   ]
  },
  {
   "cell_type": "markdown",
   "metadata": {},
   "source": [
    "#### Aufgabe 2"
   ]
  },
  {
   "cell_type": "markdown",
   "metadata": {},
   "source": [
    "Verwenden Sie map() um in einer Liste von Worten jedes Wort in Großbuchstaben auszugeben. Diskutieren Sie evtl. Probleme mit einem Nachbarn. "
   ]
  },
  {
   "cell_type": "markdown",
   "metadata": {},
   "source": [
    "#### Aufgabe 3 (optional)"
   ]
  },
  {
   "cell_type": "markdown",
   "metadata": {},
   "source": [
    "Lösen Sie Aufgabe 1 (Liste von Wörtern → Liste von Vokalanzahl pro Wort) mit map()"
   ]
  },
  {
   "cell_type": "markdown",
   "metadata": {},
   "source": [
    "#### Aufgabe 3a\n",
    "\n",
    "Analog, aber ermitteln Sie die Zahl der _unterschiedlichen_ Vokale pro Wort."
   ]
  },
  {
   "cell_type": "markdown",
   "metadata": {},
   "source": [
    "#### Aufgabe 3b\n",
    "\n",
    "Analog, aber Ergebnis soll Liste der Wörter und ihrer Vokalzahl enthalten"
   ]
  },
  {
   "cell_type": "markdown",
   "metadata": {},
   "source": [
    "#### filter()"
   ]
  },
  {
   "cell_type": "markdown",
   "metadata": {},
   "source": [
    "filter(pred, Liste)<br/>\n",
    "Die Funktion _pred_ wird auf jedes Element der Liste angewandt. Konstruiert einen neuen Iterator, in den die Elemente der Liste aufgenommen werden, für die die Funktion _pred_ ein wahres Ergebnis liefert.\n",
    "<br/>Bsp.:"
   ]
  },
  {
   "cell_type": "code",
   "execution_count": 69,
   "metadata": {
    "collapsed": false
   },
   "outputs": [
    {
     "data": {
      "text/plain": [
       "[2, 4, 6]"
      ]
     },
     "execution_count": 69,
     "metadata": {},
     "output_type": "execute_result"
    }
   ],
   "source": [
    "#returns True if x is an even number\n",
    "def is_even(x): \n",
    "    return (x % 2) == 0 \n",
    "\n",
    "b = [2,3,4,5,6]\n",
    "list(filter(is_even, b))"
   ]
  },
  {
   "cell_type": "markdown",
   "metadata": {},
   "source": [
    "#### Aufgabe 4"
   ]
  },
  {
   "cell_type": "markdown",
   "metadata": {},
   "source": [
    "Verwenden Sie filter, um aus dem folgenden Text eine Wortliste zu erstellen, in der alle Pronomina, Artikel und die Worte \"dass\", \"ist\", \"nicht\", \"auch\", \"und\" nicht enthalten sind: <br/>\n",
    "\"Ich denke auch, dass ist nicht schlimm. Er hat es nicht gemerkt und das ist gut. Und überhaupt: es ist auch seine Schuld. Ehrlich, das ist wahr.\""
   ]
  },
  {
   "cell_type": "markdown",
   "metadata": {},
   "source": [
    "#### reduce()\n",
    "\n",
    "`reduce(function, iterable [, initial])` aus dem `functools`-Modul funktioniert ähnlich `map`, reduziert die Liste jedoch auf einen einzelnen Wert. Die Verwendung ist umstritten."
   ]
  },
  {
   "cell_type": "code",
   "execution_count": 17,
   "metadata": {
    "collapsed": true
   },
   "outputs": [],
   "source": [
    "from functools import reduce\n",
    "def add(x, y):\n",
    "    print(\"add({}, {}) -> {}\".format(x, y, x+y)) # aus didaktischen Gründen ...\n",
    "    return x+y"
   ]
  },
  {
   "cell_type": "code",
   "execution_count": 19,
   "metadata": {
    "collapsed": false
   },
   "outputs": [
    {
     "name": "stdout",
     "output_type": "stream",
     "text": [
      "add(0, 1) -> 1\n",
      "add(1, 2) -> 3\n",
      "add(3, 3) -> 6\n",
      "add(6, 4) -> 10\n"
     ]
    },
    {
     "data": {
      "text/plain": [
       "10"
      ]
     },
     "execution_count": 19,
     "metadata": {},
     "output_type": "execute_result"
    }
   ],
   "source": [
    "reduce(add, range(5))"
   ]
  },
  {
   "cell_type": "markdown",
   "metadata": {},
   "source": [
    "### Das itertools-Modul"
   ]
  },
  {
   "cell_type": "markdown",
   "metadata": {},
   "source": [
    "Das `itertools`-Modul liefert effiziente Implementierungen für Operationen auf Iteratoren und Iterables.\n",
    "\n",
    "\n",
    "Die Funktionen des itertools-Moduls lassen sich einteilen in Funktionen, die: \n",
    "<ul>\n",
    "<li>die einen neuen Iterator auf der Basis eines existierenden Iterators erzeugen. </li>\n",
    "<li>die Teile der Ausgabe eines Iterators auswählen. </li>\n",
    "<li>die die Ausgabe eines Iterators gruppieren.</li>\n",
    "<li>die Iteratoren kombinieren</li>\n",
    "</ul>"
   ]
  },
  {
   "cell_type": "markdown",
   "metadata": {},
   "source": [
    "#### Neuen Iterator erzeugen"
   ]
  },
  {
   "cell_type": "markdown",
   "metadata": {},
   "source": [
    "Diese Funktionen erzeugen einen neuen Iterator auf der Basis eines existierenden: <br/>\n",
    "itertools.count(),itertools.cycle(), itertools.repeat(), itertools.chain(), itertools.isslice(), itertools.tee() "
   ]
  },
  {
   "cell_type": "markdown",
   "metadata": {},
   "source": [
    "itertools.cycle(iterator) Gibt die Liste der Elemente in iterator in einer unendlichen Schleife zurück"
   ]
  },
  {
   "cell_type": "code",
   "execution_count": 70,
   "metadata": {
    "collapsed": false
   },
   "outputs": [],
   "source": [
    "import itertools\n",
    "#don't try this at home:\n",
    "#list(itertools.cycle([1,2,3,4,5]))"
   ]
  },
  {
   "cell_type": "markdown",
   "metadata": {},
   "source": [
    "itertools.repeat(iterator, [n]) wiederholt die Elemente in iterator n mal."
   ]
  },
  {
   "cell_type": "code",
   "execution_count": 71,
   "metadata": {
    "collapsed": false
   },
   "outputs": [
    {
     "data": {
      "text/plain": [
       "[[1, 2, 3, 4], [1, 2, 3, 4], [1, 2, 3, 4]]"
      ]
     },
     "execution_count": 71,
     "metadata": {},
     "output_type": "execute_result"
    }
   ],
   "source": [
    "import itertools\n",
    "list(itertools.repeat([1,2,3,4], 3))"
   ]
  },
  {
   "cell_type": "markdown",
   "metadata": {},
   "source": [
    "itertools.chain(iterator_1, iterator_2, ...)  Erzeugt einen neuen Iterator, in dem die Elemente von iterator_1, _2 usw. aneinander gehängt sind."
   ]
  },
  {
   "cell_type": "code",
   "execution_count": 72,
   "metadata": {
    "collapsed": false
   },
   "outputs": [
    {
     "data": {
      "text/plain": [
       "[1, 2, 3, 4, 5, 6, 7, 8, 9]"
      ]
     },
     "execution_count": 72,
     "metadata": {},
     "output_type": "execute_result"
    }
   ],
   "source": [
    "a = [1, 2, 3]\n",
    "b = [4, 5, 6]\n",
    "c = [7, 8, 9]\n",
    "list(itertools.chain(a, b, c))"
   ]
  },
  {
   "cell_type": "markdown",
   "metadata": {},
   "source": [
    "#### Aufgabe 5"
   ]
  },
  {
   "cell_type": "markdown",
   "metadata": {},
   "source": [
    "Verknüpfen Sie den Inhalt dreier Dateien zu einem Iterator"
   ]
  },
  {
   "cell_type": "markdown",
   "metadata": {},
   "source": [
    "#### Teile der Ausgabe eines Iterators auswählen."
   ]
  },
  {
   "cell_type": "markdown",
   "metadata": {},
   "source": [
    "itertools.filterfalse(Prädikat, iterator) ist das Gegenstück zu filter(). Ausgabe enthält alle Elemente, für die das Prädikat falsch ist."
   ]
  },
  {
   "cell_type": "markdown",
   "metadata": {},
   "source": [
    "itertools.takewhile(Prädikat, iterator) - gibt solange Elemente aus, wie das Prädikat wahr ist"
   ]
  },
  {
   "cell_type": "markdown",
   "metadata": {},
   "source": [
    "itertools.dropwhile(Prädikat, iter) entfernt alle Elemente, solange das Prädikat wahr ist. Gibt dann den Rest aus."
   ]
  },
  {
   "cell_type": "markdown",
   "metadata": {},
   "source": [
    "itertools.compress(Daten, Selektoren) Nimmt zwei Iteratoren und gibt nur die Elemente des ersten (Daten) zurück, für die das entsprechende Element im zweiten (Selektoren) wahr ist. Stoppt, wenn einer der Iteratoren erschöpft ist."
   ]
  },
  {
   "cell_type": "markdown",
   "metadata": {},
   "source": [
    "#### Iteratoren kombinieren"
   ]
  },
  {
   "cell_type": "markdown",
   "metadata": {},
   "source": [
    "itertools.combinations(Iterator, r)  gibt alle r-Tuple Kombinationen der Elemente des Iterators wieder. Beispiel:"
   ]
  },
  {
   "cell_type": "code",
   "execution_count": 19,
   "metadata": {
    "collapsed": false
   },
   "outputs": [
    {
     "data": {
      "text/plain": [
       "((1, 2), (1, 3), (1, 4), (2, 3), (2, 4), (3, 4))"
      ]
     },
     "execution_count": 19,
     "metadata": {},
     "output_type": "execute_result"
    }
   ],
   "source": [
    "tuple(itertools.combinations([1, 2, 3, 4], 2))"
   ]
  },
  {
   "cell_type": "markdown",
   "metadata": {},
   "source": [
    "itertools.permutations(iterator, r) gibt alle Permutationen aller Elemente unabhängig von der Reihenfolge in Iterator wieder: "
   ]
  },
  {
   "cell_type": "code",
   "execution_count": 20,
   "metadata": {
    "collapsed": false
   },
   "outputs": [
    {
     "data": {
      "text/plain": [
       "((1, 2),\n",
       " (1, 3),\n",
       " (1, 4),\n",
       " (2, 1),\n",
       " (2, 3),\n",
       " (2, 4),\n",
       " (3, 1),\n",
       " (3, 2),\n",
       " (3, 4),\n",
       " (4, 1),\n",
       " (4, 2),\n",
       " (4, 3))"
      ]
     },
     "execution_count": 20,
     "metadata": {},
     "output_type": "execute_result"
    }
   ],
   "source": [
    "tuple(itertools.permutations([1, 2, 3, 4], 2)) \n"
   ]
  },
  {
   "cell_type": "markdown",
   "metadata": {},
   "source": [
    "#### Aufgabe 7"
   ]
  },
  {
   "cell_type": "markdown",
   "metadata": {},
   "source": [
    "Wieviele Zweier-Permutationen sind mit den graden Zahlen zwischen 1 und 101 möglich? "
   ]
  },
  {
   "cell_type": "markdown",
   "metadata": {},
   "source": [
    "#### The operator module"
   ]
  },
  {
   "cell_type": "markdown",
   "metadata": {},
   "source": [
    "Funktionen für die gängigen Python-Operatoren etc.\n",
    "\n",
    "\n",
    "Mathematische Operationen: add(), sub(), mul(), floordiv(), abs(),... <br/>\n",
    "Logische Operationen: not_(), truth()<br/>\n",
    "Bit Operationen: and_(), or_(), invert()<br/>\n",
    "Vergleiche: eq(), ne(), lt(), le(), gt(), and ge()<br/> \n",
    "Objektidentität: is_(), is_not()<br/> \n"
   ]
  },
  {
   "cell_type": "code",
   "execution_count": 21,
   "metadata": {
    "collapsed": false
   },
   "outputs": [
    {
     "data": {
      "text/plain": [
       "[2, 3, 8, 12, 22, 1]"
      ]
     },
     "execution_count": 21,
     "metadata": {},
     "output_type": "execute_result"
    }
   ],
   "source": [
    "a = [2, -3, 8, 12, -22, -1]\n",
    "list(map(abs, a))"
   ]
  },
  {
   "cell_type": "markdown",
   "metadata": {},
   "source": [
    "### Lambda-Funktionen"
   ]
  },
  {
   "cell_type": "markdown",
   "metadata": {},
   "source": [
    "lambda erlaubt es, kleine Funktionen anonym zu definieren. Nehmen wir an, wir wollen in einer List von Zahlen alle Zahlen durch 100 teilen und mit 13 multiplizieren. Dann könnten wir das so machen:"
   ]
  },
  {
   "cell_type": "code",
   "execution_count": 21,
   "metadata": {
    "collapsed": false
   },
   "outputs": [
    {
     "data": {
      "text/plain": [
       "[0.13, 0.26, 0.65, 0.91]"
      ]
     },
     "execution_count": 21,
     "metadata": {},
     "output_type": "execute_result"
    }
   ],
   "source": [
    "def calc(n):\n",
    "    return (n * 13) / 100\n",
    "\n",
    "a = [1, 2, 5, 7]\n",
    "list(map(calc, a))"
   ]
  },
  {
   "cell_type": "markdown",
   "metadata": {},
   "source": [
    "Diese Funktion können wir mit Lambda nun direkt einsetzen:"
   ]
  },
  {
   "cell_type": "code",
   "execution_count": 22,
   "metadata": {
    "collapsed": false
   },
   "outputs": [
    {
     "data": {
      "text/plain": [
       "[0.13, 0.26, 0.65, 0.91]"
      ]
     },
     "execution_count": 22,
     "metadata": {},
     "output_type": "execute_result"
    }
   ],
   "source": [
    "list(map(lambda x: (x *  13)/100, a))"
   ]
  },
  {
   "cell_type": "markdown",
   "metadata": {},
   "source": [
    "`lambda`-Ausdrücke tragen ggf. nicht immer zur Lesbarkeit bei …\n",
    "\n",
    "<ol>\n",
    "<li>Write a lambda function.</li> \n",
    "<li>Write a comment explaining what the heck that lambda does. </li>\n",
    "<li>Study the comment for a while, and think of a name that captures the essence of the comment. </li>\n",
    "<li>Convert the lambda to a def statement, using that name. </li>\n",
    "<li>Remove the comment. </li>\n",
    "</ol>\n",
    "\n"
   ]
  },
  {
   "cell_type": "markdown",
   "metadata": {},
   "source": [
    "### Hausaufgabe"
   ]
  },
  {
   "cell_type": "markdown",
   "metadata": {},
   "source": [
    "1) Geben Sie alle Unicode-Zeichen zwischen 34 und 250 aus und geben Sie alle aus, die keine Buchstaben oder Zahlen sind"
   ]
  },
  {
   "cell_type": "markdown",
   "metadata": {},
   "source": [
    "2) Wie könnte man alle Dateien mit der Endung *.txt in einem Unterverzeichnis hintereinander ausgeben? \n",
    "\n",
    "3) Schauen Sie sich in der Python-Dokumentation die Funktionen sort und itemgetter an. Wie kann man diese so kombinieren, dass man damit ein Dictionary nach dem value sortieren kann. (no stackoverflow :-)\n",
    "\n",
    "4) Was ist der eleganteste/kürzeste/geekigste:-) Weg, den folgenden regelmäßig aufgebauten String zu erzeugen: `\"0123 1234 2345 3456 4567 5678 6789\"`"
   ]
  },
  {
   "cell_type": "markdown",
   "metadata": {},
   "source": [
    "<br/><br/><br/><br/><br/><br/><br/><br/>"
   ]
  },
  {
   "cell_type": "code",
   "execution_count": null,
   "metadata": {
    "collapsed": false
   },
   "outputs": [],
   "source": []
  },
  {
   "cell_type": "markdown",
   "metadata": {},
   "source": [
    "### Lösungen"
   ]
  },
  {
   "cell_type": "markdown",
   "metadata": {},
   "source": [
    "#### Aufgabe 1"
   ]
  },
  {
   "cell_type": "code",
   "execution_count": 12,
   "metadata": {
    "collapsed": false
   },
   "outputs": [
    {
     "data": {
      "text/plain": [
       "[2, 1, 3, 2, 2, 1]"
      ]
     },
     "execution_count": 12,
     "metadata": {},
     "output_type": "execute_result"
    }
   ],
   "source": [
    "#zählt die Vokale eines strings\n",
    "def cv(word):\n",
    "    return len([ch for ch in word if ch in \"aeiouAEIOUÄÖÜäöü\"])\n",
    "\n",
    "text = \"Dies ist eine Lüge, oder nicht?\"\n",
    "[cv(word) for word in text.split()]"
   ]
  },
  {
   "cell_type": "markdown",
   "metadata": {},
   "source": [
    "<br/>\n",
    "<br/><br/><br/><br/><br/>"
   ]
  },
  {
   "cell_type": "markdown",
   "metadata": {},
   "source": [
    "#### Aufgabe 2"
   ]
  },
  {
   "cell_type": "code",
   "execution_count": 14,
   "metadata": {
    "collapsed": false
   },
   "outputs": [
    {
     "data": {
      "text/plain": [
       "['DIES', 'IST', 'EIN', 'SATZ']"
      ]
     },
     "execution_count": 14,
     "metadata": {},
     "output_type": "execute_result"
    }
   ],
   "source": [
    "#uppeditys the string word \n",
    "def upper(word):\n",
    "    return word.upper()\n",
    "\n",
    "a = [\"dies\", \"ist\", \"Ein\", \"satz\"]\n",
    "list(map(upper, a))"
   ]
  },
  {
   "cell_type": "markdown",
   "metadata": {},
   "source": [
    "<br/><br/><br/><br/><br/><br/><br/><br/>"
   ]
  },
  {
   "cell_type": "markdown",
   "metadata": {},
   "source": [
    "Aufgabe 3"
   ]
  },
  {
   "cell_type": "code",
   "execution_count": 16,
   "metadata": {
    "collapsed": false
   },
   "outputs": [
    {
     "data": {
      "text/plain": [
       "[2, 1, 3, 2, 2, 1]"
      ]
     },
     "execution_count": 16,
     "metadata": {},
     "output_type": "execute_result"
    }
   ],
   "source": [
    "def cv(word):\n",
    "    return len([char for char in word if char.lower() in \"aeiouäöü\"])\n",
    "    #return sum((1 for char in word if char in \"aeiouAEIOUÄÖÜäöü\"]))\n",
    "\n",
    "a = \"Dies ist eine Lüge, oder nicht?\"\n",
    "\n",
    "list(map(cv, a.split()))"
   ]
  },
  {
   "cell_type": "markdown",
   "metadata": {},
   "source": [
    "<br/><br/><br/><br/><br/><br/><br/><br/>"
   ]
  },
  {
   "cell_type": "markdown",
   "metadata": {},
   "source": [
    "#### Aufgabe 4"
   ]
  },
  {
   "cell_type": "code",
   "execution_count": 11,
   "metadata": {
    "collapsed": false
   },
   "outputs": [
    {
     "data": {
      "text/plain": [
       "['denke',\n",
       " 'schlimm',\n",
       " 'gemerkt',\n",
       " 'gut',\n",
       " 'überhaupt',\n",
       " 'seine',\n",
       " 'Schuld',\n",
       " 'Ehrlich',\n",
       " 'wahr']"
      ]
     },
     "execution_count": 11,
     "metadata": {},
     "output_type": "execute_result"
    }
   ],
   "source": [
    "import re\n",
    "\n",
    "def is_no_function_word(word):\n",
    "    \"\"\"Returns True iff word is not a German function word.\"\"\"\n",
    "    f_words = [\"der\", \"die\", \"das\", \"ich\", \"du\", \"er\", \"sie\", \"es\", \"wir\", \"ihr\", \"dass\", \"ist\", \"hat\", \"auch\", \"und\", \"nicht\"]\n",
    "    return word.lower() not in f_words\n",
    "   \n",
    "    \n",
    "text = \"\"\"Ich denke auch, dass ist nicht schlimm. Er hat es nicht gemerkt und das ist gut. \n",
    "          Und überhaupt: es ist auch seine Schuld. Ehrlich, das ist wahr.\"\"\"\n",
    "\n",
    "list(filter(is_no_function_word, re.findall(\"\\w+\", text)))"
   ]
  }
 ],
 "metadata": {
  "kernelspec": {
   "display_name": "Python 3",
   "language": "python",
   "name": "python3"
  },
  "language_info": {
   "codemirror_mode": {
    "name": "ipython",
    "version": 3
   },
   "file_extension": ".py",
   "mimetype": "text/x-python",
   "name": "python",
   "nbconvert_exporter": "python",
   "pygments_lexer": "ipython3",
   "version": "3.4.3"
  }
 },
 "nbformat": 4,
 "nbformat_minor": 0
}
